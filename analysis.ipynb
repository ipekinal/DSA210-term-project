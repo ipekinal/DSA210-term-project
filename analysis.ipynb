import pandas as pd
import matplotlib.pyplot as plt
import seaborn as sns
from scipy.stats import pearsonr, ttest_rel

# Load data
df = pd.read_csv("data.csv")
